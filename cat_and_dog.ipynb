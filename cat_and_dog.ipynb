{
 "cells": [
  {
   "cell_type": "code",
   "execution_count": 1,
   "metadata": {},
   "outputs": [
    {
     "name": "stderr",
     "output_type": "stream",
     "text": [
      "Using TensorFlow backend.\n"
     ]
    }
   ],
   "source": [
    "import pandas as pd\n",
    "import keras\n",
    "import tensorflow\n",
    "from keras.datasets import mnist\n",
    "from keras.models import Sequential\n",
    "from keras.layers import Dense, Dropout, Conv2D, MaxPooling2D, Flatten\n",
    "from keras.optimizers import RMSprop\n"
   ]
  },
  {
   "cell_type": "code",
   "execution_count": 2,
   "metadata": {},
   "outputs": [
    {
     "name": "stdout",
     "output_type": "stream",
     "text": [
      "WARNING:tensorflow:From C:\\ProgramData\\Anaconda3\\lib\\site-packages\\keras\\backend\\tensorflow_backend.py:4070: The name tf.nn.max_pool is deprecated. Please use tf.nn.max_pool2d instead.\n",
      "\n",
      "WARNING:tensorflow:From C:\\ProgramData\\Anaconda3\\lib\\site-packages\\tensorflow\\python\\ops\\nn_impl.py:180: add_dispatch_support.<locals>.wrapper (from tensorflow.python.ops.array_ops) is deprecated and will be removed in a future version.\n",
      "Instructions for updating:\n",
      "Use tf.where in 2.0, which has the same broadcast rule as np.where\n"
     ]
    }
   ],
   "source": [
    "#Initializing the CNN\n",
    "#Binary cross entropy compares each of the predicted probabilities to actual class output which can be either 0 or 1\n",
    "model = Sequential()\n",
    "\n",
    "#Step1 - Convolution\n",
    "model.add(Conv2D(32,(3,3),input_shape=(64,64,3),activation='relu'))\n",
    "\n",
    "#Step2 - Pooling\n",
    "model.add(MaxPooling2D(pool_size=(2,2)))\n",
    "\n",
    "#Step3 - Adding a second convolution layer and Pooling\n",
    "model.add(Conv2D(16,(3,3), activation= 'relu'))\n",
    "model.add(MaxPooling2D(pool_size=(2,2)))\n",
    "          \n",
    "#Step4 - Flattening\n",
    "model.add(Flatten())\n",
    "\n",
    "#Step5 - Full Connection (Hidden Layers)\n",
    "model.add(Dense(100 , activation = 'relu'))\n",
    "model.add(Dense(1 , activation = 'sigmoid'))\n",
    "\n",
    "#Step6 Compiling the CNN\n",
    "\n",
    "model.compile(loss='binary_crossentropy' , optimizer = 'adam',  metrics=['accuracy'])          "
   ]
  },
  {
   "cell_type": "code",
   "execution_count": 9,
   "metadata": {},
   "outputs": [
    {
     "name": "stdout",
     "output_type": "stream",
     "text": [
      "Found 220 images belonging to 2 classes.\n",
      "Found 72 images belonging to 2 classes.\n",
      "Epoch 1/10\n",
      "20/20 [==============================] - 5s 245ms/step - loss: 0.0646 - accuracy: 0.9900 - val_loss: 1.8507 - val_accuracy: 0.6141\n",
      "Epoch 2/10\n",
      "20/20 [==============================] - 2s 93ms/step - loss: 0.0360 - accuracy: 1.0000 - val_loss: 3.6910 - val_accuracy: 0.6591\n",
      "Epoch 3/10\n",
      "20/20 [==============================] - 2s 83ms/step - loss: 0.0244 - accuracy: 1.0000 - val_loss: 1.5368 - val_accuracy: 0.6685\n",
      "Epoch 4/10\n",
      "20/20 [==============================] - 1s 67ms/step - loss: 0.0150 - accuracy: 1.0000 - val_loss: 3.3156 - val_accuracy: 0.6420\n",
      "Epoch 5/10\n",
      "20/20 [==============================] - 1s 67ms/step - loss: 0.0117 - accuracy: 1.0000 - val_loss: 1.4621 - val_accuracy: 0.5924\n",
      "Epoch 6/10\n",
      "20/20 [==============================] - 1s 67ms/step - loss: 0.0096 - accuracy: 1.0000 - val_loss: 0.5763 - val_accuracy: 0.6136\n",
      "Epoch 7/10\n",
      "20/20 [==============================] - 2s 78ms/step - loss: 0.0077 - accuracy: 1.0000 - val_loss: 0.3945 - val_accuracy: 0.6087\n",
      "Epoch 8/10\n",
      "20/20 [==============================] - 1s 70ms/step - loss: 0.0058 - accuracy: 1.0000 - val_loss: 3.9033 - val_accuracy: 0.5966\n",
      "Epoch 9/10\n",
      "20/20 [==============================] - 1s 66ms/step - loss: 0.0050 - accuracy: 1.0000 - val_loss: 3.2075 - val_accuracy: 0.5598\n",
      "Epoch 10/10\n",
      "20/20 [==============================] - 1s 68ms/step - loss: 0.0046 - accuracy: 1.0000 - val_loss: 1.1094 - val_accuracy: 0.6193\n"
     ]
    },
    {
     "data": {
      "text/plain": [
       "<keras.callbacks.callbacks.History at 0x1818b95f7f0>"
      ]
     },
     "execution_count": 9,
     "metadata": {},
     "output_type": "execute_result"
    }
   ],
   "source": [
    "#It defines the number times that the learning algorithm will work through the entire training dataset\n",
    "from keras.preprocessing.image import ImageDataGenerator\n",
    "\n",
    "train_data = ImageDataGenerator(rescale = 1./255)\n",
    "\n",
    "test_data = ImageDataGenerator(rescale = 1./255)\n",
    "\n",
    "training_set = train_data.flow_from_directory('img_data/train',\n",
    "                                                 target_size = (64, 64),\n",
    "                                                 batch_size = 20,\n",
    "                                                 class_mode = 'binary')\n",
    "\n",
    "test_set = test_data.flow_from_directory('img_data/test',\n",
    "                                            target_size = (64, 64),\n",
    "                                            batch_size = 10,\n",
    "                                            class_mode = 'binary')\n",
    "\n",
    "model.fit_generator(training_set,\n",
    "                         steps_per_epoch = 20,\n",
    "                         epochs = 10,\n",
    "                         validation_data = test_set,\n",
    "                         validation_steps = 20)"
   ]
  },
  {
   "cell_type": "code",
   "execution_count": null,
   "metadata": {},
   "outputs": [],
   "source": [
    "\n"
   ]
  },
  {
   "cell_type": "code",
   "execution_count": 7,
   "metadata": {},
   "outputs": [
    {
     "name": "stdout",
     "output_type": "stream",
     "text": [
      "cat\n"
     ]
    }
   ],
   "source": [
    "import numpy as np \n",
    "from keras.preprocessing import image\n",
    "test_image = image.load_img('img_data/single_prediction/cat_or_dog_3.jpg',target_size=(64,64))\n",
    "test_image = image.img_to_array(test_image)\n",
    "\n",
    "test_image= np.expand_dims(test_image,axis=0)\n",
    "r=model.predict(test_image)\n",
    "if r[0][0] == 1:\n",
    "    print('dog')\n",
    "else :\n",
    "    print('cat')"
   ]
  },
  {
   "cell_type": "code",
   "execution_count": 8,
   "metadata": {},
   "outputs": [
    {
     "name": "stdout",
     "output_type": "stream",
     "text": [
      "dog\n"
     ]
    }
   ],
   "source": [
    "import numpy as np \n",
    "from keras.preprocessing import image\n",
    "test_image = image.load_img('img_data/single_prediction/cat_or_dog_1.jpg',target_size=(64,64))\n",
    "test_image = image.img_to_array(test_image)\n",
    "\n",
    "test_image= np.expand_dims(test_image,axis=0)\n",
    "\n",
    "r=model.predict(test_image)\n",
    "if r[0][0] == 1:\n",
    "    print('dog')\n",
    "else :\n",
    "    print('cat')"
   ]
  },
  {
   "cell_type": "code",
   "execution_count": null,
   "metadata": {},
   "outputs": [],
   "source": []
  }
 ],
 "metadata": {
  "kernelspec": {
   "display_name": "Python 3",
   "language": "python",
   "name": "python3"
  },
  "language_info": {
   "codemirror_mode": {
    "name": "ipython",
    "version": 3
   },
   "file_extension": ".py",
   "mimetype": "text/x-python",
   "name": "python",
   "nbconvert_exporter": "python",
   "pygments_lexer": "ipython3",
   "version": "3.7.3"
  }
 },
 "nbformat": 4,
 "nbformat_minor": 2
}
